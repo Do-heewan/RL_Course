{
 "cells": [
  {
   "cell_type": "code",
   "execution_count": 1,
   "metadata": {},
   "outputs": [],
   "source": [
    "import torch\n",
    "import torch.nn as nn\n",
    "import torch.nn.functional as F\n",
    "import torch.optim as optim\n",
    "from torch.distributions import Categorical\n",
    "\n",
    "import gymnasium as gym\n",
    "import numpy as np\n",
    "from collections import deque"
   ]
  },
  {
   "cell_type": "code",
   "execution_count": 6,
   "metadata": {},
   "outputs": [],
   "source": [
    "# HyperParameters\n",
    "\n",
    "\n",
    "# discount factor for future utilities\n",
    "DISCOUNT_FACTOR = 0.99\n",
    "\n",
    "# number of episodes to run\n",
    "NUM_EPISODES = 10000\n",
    "\n",
    "# mat steps per episode\n",
    "MAX_STEPS = 10000\n",
    "\n",
    "# score agent needs for environment to be solved\n",
    "SOLVED_SCORE = 195\n",
    "\n",
    "lr = 0.001\n",
    "\n",
    "print_step = 100\n",
    "\n",
    "# device to run model on\n",
    "device = torch.device(\"cuda\" if torch.cuda.is_available() else \"cpu\")"
   ]
  },
  {
   "cell_type": "code",
   "execution_count": 3,
   "metadata": {},
   "outputs": [],
   "source": [
    "class actor_net(nn.Module):\n",
    "    def __init__(self, observation_space, action_space):\n",
    "        super(actor_net, self).__init__()\n",
    "        self.input_layer = nn.Linear(observation_space, 128)\n",
    "        self.output_layer = nn.Linear(128, action_space)\n",
    "\n",
    "    def forward(self, x):\n",
    "        x = self.input_layer(x)\n",
    "        x = F.relu(x)\n",
    "        actions = self.output_layer(x)\n",
    "\n",
    "        # get softmax for a probability distribution\n",
    "        action_probs = F.softmax(actions, dim = 1)\n",
    "\n",
    "        return action_probs\n",
    "\n",
    "    def select_action(self, s):\n",
    "        s = torch.from_numpy(s).float().unsqueeze(0).to(device)\n",
    "        action_probs = self.forward(s)\n",
    "\n",
    "        # state = s.detach()\n",
    "        m = Categorical(action_probs)\n",
    "        action = m.sample()\n",
    "\n",
    "        return action.item(), m.log_prob(action), m"
   ]
  },
  {
   "cell_type": "code",
   "execution_count": 4,
   "metadata": {},
   "outputs": [],
   "source": [
    "class critic_net(nn.Module):\n",
    "    def __init__(self, observation_space):\n",
    "        super(critic_net, self).__init__()\n",
    "\n",
    "        self.input_layer = nn.Linear(observation_space, 128)\n",
    "        self.output_layer = nn.Linear(128, 1)\n",
    "\n",
    "    def forward(self, x):\n",
    "        x = self.input_layer(x)\n",
    "        x = F.relu(x)\n",
    "\n",
    "        # get state value\n",
    "        state_value = self.output_layer(x)\n",
    "\n",
    "        return state_value"
   ]
  },
  {
   "cell_type": "code",
   "execution_count": 5,
   "metadata": {},
   "outputs": [],
   "source": [
    "# Make environment\n",
    "env = gym.make(\"CartPole-v1\")\n",
    "\n",
    "# Initialize actor and critic\n",
    "actor = actor_net(env.observation_space.shape[0], env.action_space.n).to(device)\n",
    "critic = critic_net(env.observation_space.shape[0]).to(device)\n",
    "\n",
    "# Initialize optimizer\n",
    "actor_optimizer = optim.Adam(actor.parameters(), lr = lr)\n",
    "critic_optimizer = optim.Adam(critic.parameters(), lr = lr)"
   ]
  },
  {
   "cell_type": "code",
   "execution_count": 7,
   "metadata": {},
   "outputs": [
    {
     "name": "stdout",
     "output_type": "stream",
     "text": [
      "Episode 0, score: 14.0\n",
      "Episode 100, score: 12.0\n",
      "Episode 200, score: 59.0\n",
      "Episode 300, score: 150.0\n",
      "Episode 400, score: 65.0\n"
     ]
    }
   ],
   "source": [
    "scores = []\n",
    "recent_score = deque(maxlen = 100)\n",
    "\n",
    "for episode in range(700):\n",
    "    # init variables\n",
    "    state, _ = env.reset()\n",
    "    done = False\n",
    "    score = 0\n",
    "    I = 1\n",
    "\n",
    "    # run episode, update online\n",
    "    for step in range(MAX_STEPS):\n",
    "\n",
    "        # get action and log probability\n",
    "        action, log_prob, m = actor.select_action(state)\n",
    "\n",
    "        # step with action\n",
    "        next_state, reward, done, trancated, _ = env.step(action)\n",
    "\n",
    "        # update episode score\n",
    "        score += reward\n",
    "\n",
    "        # get state value\n",
    "        state_val_current = critic(torch.from_numpy(state).float().unsqueeze(0).to(device))\n",
    "        state_val_next = critic(torch.from_numpy(next_state).float().unsqueeze(0).to(device))\n",
    "\n",
    "        # if terminal state, next state value is 0\n",
    "        if done:\n",
    "            state_val_next = torch.tensor([0]).float().unsqueeze(0).to(device)\n",
    "\n",
    "        # calculate value function loss with MSE\n",
    "        # val_loss = F.mse_loss(reward + DISCOUNT_FACTOR * state_val_next, state_val_current)\n",
    "        val_loss = F.mse_loss(reward + DISCOUNT_FACTOR * state_val_next.detach(), state_val_current)\n",
    "\n",
    "        # val_loss *= I\n",
    "\n",
    "        # calculate policy loss\n",
    "        entropy = m.entropy()\n",
    "\n",
    "        advantage = reward + DISCOUNT_FACTOR * state_val_next.item() - state_val_current.item()\n",
    "        policy_loss = 0.1 * (-log_prob * advantage) + 0.01 * entropy\n",
    "\n",
    "        # Backpropagate policy\n",
    "        actor_optimizer.zero_grad()\n",
    "        policy_loss.backward(retain_graph = True)\n",
    "        actor_optimizer.step()\n",
    "\n",
    "        # Backpropagate value\n",
    "        critic_optimizer.zero_grad()\n",
    "        val_loss.backward()\n",
    "        critic_optimizer.step()\n",
    "\n",
    "        if done:\n",
    "            break\n",
    "\n",
    "        # move into new state, discount I\n",
    "        state = next_state\n",
    "        # I *= DISCOUNT_FACTOR\n",
    "    \n",
    "    # append episode score\n",
    "    scores.append(score)\n",
    "    recent_score.append(score)\n",
    "\n",
    "    if (episode % print_step == 0):\n",
    "        print(f\"Episode {episode}, score: {score}\")\n",
    "\n",
    "    # early stopping if we meet solved score goal\n",
    "    if (np.array(recent_score).mean() >= SOLVED_SCORE):\n",
    "        break"
   ]
  },
  {
   "cell_type": "code",
   "execution_count": 8,
   "metadata": {},
   "outputs": [
    {
     "data": {
      "image/png": "[encoded data removed]",
      "text/plain": [
       "<Figure size 640x480 with 1 Axes>"
      ]
     },
     "metadata": {},
     "output_type": "display_data"
    }
   ],
   "source": [
    "import matplotlib.pyplot as plt\n",
    "\n",
    "plt.plot(scores)\n",
    "plt.show()"
   ]
  },
  {
   "cell_type": "code",
   "execution_count": 9,
   "metadata": {},
   "outputs": [],
   "source": [
    "import time\n",
    "env = gym.make(\"CartPole-v1\", render_mode = \"human\")\n",
    "state, info = env.reset()\n",
    "\n",
    "for i in range(500):\n",
    "    action, lp, m = actor.select_action(state)\n",
    "    state, reward, done, truncated, _ = env.step(action)\n",
    "\n",
    "    env.render()\n",
    "\n",
    "    time.sleep(0.01)\n",
    "\n",
    "    if done:\n",
    "        state, info = env.reset()\n",
    "\n",
    "env.close()"
   ]
  }
 ],
 "metadata": {
  "kernelspec": {
   "display_name": "base",
   "language": "python",
   "name": "python3"
  },
  "language_info": {
   "codemirror_mode": {
    "name": "ipython",
    "version": 3
   },
   "file_extension": ".py",
   "mimetype": "text/x-python",
   "name": "python",
   "nbconvert_exporter": "python",
   "pygments_lexer": "ipython3",
   "version": "3.11.9"
  }
 },
 "nbformat": 4,
 "nbformat_minor": 2
}
