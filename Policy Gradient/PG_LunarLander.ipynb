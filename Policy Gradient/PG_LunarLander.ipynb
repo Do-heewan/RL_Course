{
 "cells": [
  {
   "cell_type": "code",
   "execution_count": 1,
   "metadata": {},
   "outputs": [],
   "source": [
    "import gymnasium as gym\n",
    "import numpy as np\n",
    "import torch\n",
    "import torch.nn as nn\n",
    "import torch.optim as optim\n",
    "import torch.nn.functional as F\n",
    "\n",
    "# device = torch.device(\"cuda\" if torch.cuda.is_available() else \"cpu\")\n",
    "\n",
    "# Hyperparameters\n",
    "learning_rate = 0.0002\n",
    "gamma = 0.98"
   ]
  },
  {
   "cell_type": "code",
   "execution_count": 4,
   "metadata": {},
   "outputs": [],
   "source": [
    "class Policy_net(nn.Module):\n",
    "    def __init__(self):\n",
    "        super(Policy_net, self).__init__()\n",
    "        self.data = []\n",
    "\n",
    "        self.fc1 = nn.Linear(8, 128)\n",
    "        self.fc2 = nn.Linear(128, 128)\n",
    "        self.fc3 = nn.Linear(128, 4)\n",
    "\n",
    "    def forward(self, x):\n",
    "        x = F.relu(self.fc1(x))\n",
    "        x = F.relu(self.fc2(x))\n",
    "        x = self.fc3(x)\n",
    "\n",
    "        return x"
   ]
  },
  {
   "cell_type": "code",
   "execution_count": 5,
   "metadata": {},
   "outputs": [],
   "source": [
    "class episode_memory():\n",
    "    def __init__(self):\n",
    "        self.data = []\n",
    "    \n",
    "    def put_data(self, item):\n",
    "        self.data.append(item)\n"
   ]
  },
  {
   "cell_type": "code",
   "execution_count": 6,
   "metadata": {},
   "outputs": [],
   "source": [
    "def train_net():\n",
    "    R = 0\n",
    "    optimizer .zero_grad()\n",
    "    total_loss = 0\n",
    "    for r, prob in memory.data[::-1]:\n",
    "        R = r + gamma * R\n",
    "        loss = -torch.log(prob) * R\n",
    "        total_loss += loss\n",
    "\n",
    "    total_loss.backward() # total_loss 한번에 업데이트\n",
    "    optimizer.step()\n",
    "    memory.data = []"
   ]
  },
  {
   "cell_type": "code",
   "execution_count": 7,
   "metadata": {},
   "outputs": [],
   "source": [
    "pi = Policy_net()\n",
    "memory = episode_memory()\n",
    "optimizer = optim.Adam(pi.parameters(), lr  = learning_rate)"
   ]
  },
  {
   "cell_type": "code",
   "execution_count": 11,
   "metadata": {},
   "outputs": [
    {
     "ename": "ValueError",
     "evalue": "probabilities are not non-negative",
     "output_type": "error",
     "traceback": [
      "\u001b[1;31m---------------------------------------------------------------------------\u001b[0m",
      "\u001b[1;31mValueError\u001b[0m                                Traceback (most recent call last)",
      "Cell \u001b[1;32mIn[11], line 11\u001b[0m\n\u001b[0;32m      9\u001b[0m \u001b[38;5;28;01mwhile\u001b[39;00m \u001b[38;5;129;01mnot\u001b[39;00m done:\n\u001b[0;32m     10\u001b[0m     prob \u001b[38;5;241m=\u001b[39m pi(torch\u001b[38;5;241m.\u001b[39mfrom_numpy(s)\u001b[38;5;241m.\u001b[39mfloat())\n\u001b[1;32m---> 11\u001b[0m     a \u001b[38;5;241m=\u001b[39m np\u001b[38;5;241m.\u001b[39mrandom\u001b[38;5;241m.\u001b[39mchoice(a \u001b[38;5;241m=\u001b[39m \u001b[38;5;241m4\u001b[39m, size \u001b[38;5;241m=\u001b[39m \u001b[38;5;241m1\u001b[39m, p \u001b[38;5;241m=\u001b[39m prob\u001b[38;5;241m.\u001b[39mdetach()\u001b[38;5;241m.\u001b[39mnumpy())\u001b[38;5;241m.\u001b[39msqueeze()\n\u001b[0;32m     12\u001b[0m     s_prime, r, done, truncated, info \u001b[38;5;241m=\u001b[39m env\u001b[38;5;241m.\u001b[39mstep(a)\n\u001b[0;32m     13\u001b[0m     memory\u001b[38;5;241m.\u001b[39mput_data((r, prob[a]))\n",
      "File \u001b[1;32mnumpy\\\\random\\\\mtrand.pyx:973\u001b[0m, in \u001b[0;36mnumpy.random.mtrand.RandomState.choice\u001b[1;34m()\u001b[0m\n",
      "\u001b[1;31mValueError\u001b[0m: probabilities are not non-negative"
     ]
    }
   ],
   "source": [
    "env = gym.make(\"LunarLander-v3\")\n",
    "score = 0.0\n",
    "print_interval = 100\n",
    "\n",
    "for n_epi in range(10000):\n",
    "    s, _ = env.reset()\n",
    "    done = False\n",
    "\n",
    "    while not done:\n",
    "        prob = pi(torch.from_numpy(s).float())\n",
    "        a = np.random.choice(a = 4, size = 1, p = prob.detach().numpy()).squeeze()\n",
    "        s_prime, r, done, truncated, info = env.step(a)\n",
    "        memory.put_data((r, prob[a]))\n",
    "        s = s_prime\n",
    "        score += r\n",
    "    \n",
    "    train_net()\n",
    "\n",
    "    if n_epi % print_interval == 0 and n_epi != 0:\n",
    "        print(f\"# of Episode : {n_epi}, avg_score {score / print_interval}\")\n",
    "        score = 0.0\n",
    "\n",
    "env.close()"
   ]
  },
  {
   "cell_type": "code",
   "execution_count": 12,
   "metadata": {},
   "outputs": [
    {
     "data": {
      "text/plain": [
       "tensor([-0.0123, -0.0091, -0.0978,  0.0585], grad_fn=<ViewBackward0>)"
      ]
     },
     "execution_count": 12,
     "metadata": {},
     "output_type": "execute_result"
    }
   ],
   "source": [
    "prob"
   ]
  }
 ],
 "metadata": {
  "kernelspec": {
   "display_name": "base",
   "language": "python",
   "name": "python3"
  },
  "language_info": {
   "codemirror_mode": {
    "name": "ipython",
    "version": 3
   },
   "file_extension": ".py",
   "mimetype": "text/x-python",
   "name": "python",
   "nbconvert_exporter": "python",
   "pygments_lexer": "ipython3",
   "version": "3.11.9"
  }
 },
 "nbformat": 4,
 "nbformat_minor": 2
}
