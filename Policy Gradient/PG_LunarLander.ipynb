{
 "cells": [
  {
   "cell_type": "code",
   "execution_count": 2,
   "metadata": {},
   "outputs": [],
   "source": [
    "import gymnasium as gym\n",
    "import numpy as np\n",
    "import torch\n",
    "import torch.nn as nn\n",
    "import torch.optim as optim\n",
    "import torch.nn.functional as F\n",
    "\n",
    "# device = torch.device(\"cuda\" if torch.cuda.is_available() else \"cpu\")\n",
    "\n",
    "# Hyperparameters\n",
    "learning_rate = 0.0002\n",
    "gamma = 0.98"
   ]
  },
  {
   "cell_type": "code",
   "execution_count": 3,
   "metadata": {},
   "outputs": [],
   "source": [
    "class Policy_net(nn.Module):\n",
    "    def __init__(self):\n",
    "        super(Policy_net, self).__init__()\n",
    "        self.data = []\n",
    "\n",
    "        self.fc1 = nn.Linear(8, 128)\n",
    "        self.fc2 = nn.Linear(128, 128)\n",
    "        self.fc3 = nn.Linear(128, 4)\n",
    "\n",
    "    def forward(self, x):\n",
    "        x = F.relu(self.fc1(x))\n",
    "        x = F.relu(self.fc2(x))\n",
    "        x = self.fc3(x)\n",
    "\n",
    "        return x"
   ]
  },
  {
   "cell_type": "code",
   "execution_count": 4,
   "metadata": {},
   "outputs": [],
   "source": [
    "class episode_memory():\n",
    "    def __init__(self):\n",
    "        self.data = []\n",
    "    \n",
    "    def put_data(self, item):\n",
    "        self.data.append(item)\n"
   ]
  },
  {
   "cell_type": "code",
   "execution_count": 5,
   "metadata": {},
   "outputs": [],
   "source": [
    "pi = Policy_net()\n",
    "memory = episode_memory()\n",
    "optimizer = optim.Adam(pi.parameters(), lr  = learning_rate)"
   ]
  },
  {
   "cell_type": "code",
   "execution_count": 6,
   "metadata": {},
   "outputs": [],
   "source": [
    "def train_net():\n",
    "    R = 0\n",
    "    optimizer .zero_grad()\n",
    "    total_loss = 0\n",
    "    for r, prob in memory.data[::-1]:\n",
    "        R = r + gamma * R\n",
    "        loss = -torch.log(prob) * R\n",
    "        total_loss += loss\n",
    "\n",
    "    total_loss.backward() # total_loss 한번에 업데이트\n",
    "    optimizer.step()\n",
    "    memory.data = []"
   ]
  },
  {
   "cell_type": "code",
   "execution_count": 7,
   "metadata": {},
   "outputs": [
    {
     "name": "stdout",
     "output_type": "stream",
     "text": [
      "# of Episode : 100, avg_score -188.88330634038357\n",
      "# of Episode : 200, avg_score -192.14610825724733\n",
      "# of Episode : 300, avg_score -171.1451542648543\n",
      "# of Episode : 400, avg_score -154.14753394698337\n",
      "# of Episode : 500, avg_score -150.47231911675846\n",
      "# of Episode : 600, avg_score -136.10382780752877\n",
      "# of Episode : 700, avg_score -208.41212380023507\n",
      "# of Episode : 800, avg_score -136.77742686822322\n",
      "# of Episode : 900, avg_score -127.05655944567269\n",
      "# of Episode : 1000, avg_score -122.49306234675922\n",
      "# of Episode : 1100, avg_score -127.58162893277377\n",
      "# of Episode : 1200, avg_score -119.96953826384751\n",
      "# of Episode : 1300, avg_score -114.9069602236778\n",
      "# of Episode : 1400, avg_score -118.44639814193393\n",
      "# of Episode : 1500, avg_score -117.19628687896316\n",
      "# of Episode : 1600, avg_score -110.17599420126668\n",
      "# of Episode : 1700, avg_score -136.64870181144295\n",
      "# of Episode : 1800, avg_score -112.9949714189574\n",
      "# of Episode : 1900, avg_score -221.4893500818093\n"
     ]
    }
   ],
   "source": [
    "env = gym.make(\"LunarLander-v3\", continuous=False, gravity=-10.0, enable_wind=False, wind_power=15.0, turbulence_power=1.5)\n",
    "score = 0.0\n",
    "print_interval = 100\n",
    "\n",
    "for n_epi in range(2000):\n",
    "    s, _ = env.reset()\n",
    "    done = False\n",
    "\n",
    "    while not done:\n",
    "        prob = pi(torch.from_numpy(s).float())\n",
    "        prob = F.softmax(prob, dim=-1)  # 소프트맥스 적용\n",
    "        a = np.random.choice(a = 4, size = 1, p = prob.detach().numpy()).squeeze()\n",
    "        s_prime, r, done, truncated, info = env.step(a)\n",
    "        memory.put_data((r, prob[a]))\n",
    "        s = s_prime\n",
    "        score += r\n",
    "    \n",
    "    train_net()\n",
    "\n",
    "    if n_epi % print_interval == 0 and n_epi != 0:\n",
    "        print(f\"# of Episode : {n_epi}, avg_score {score / print_interval}\")\n",
    "        score = 0.0\n",
    "\n",
    "env.close()"
   ]
  },
  {
   "cell_type": "code",
   "execution_count": 9,
   "metadata": {},
   "outputs": [],
   "source": [
    "import time\n",
    "env = gym.make(\"LunarLander-v3\", render_mode = \"human\", continuous=False, gravity=-10.0, enable_wind=False, wind_power=15.0, turbulence_power=1.5)\n",
    "state, info = env.reset()\n",
    "\n",
    "for i in range(500):\n",
    "    prob = pi(torch.from_numpy(state).float())\n",
    "    prob = F.softmax(prob, dim=-1)  # 소프트맥스 적용\n",
    "    a = np.random.choice(a = 4, size = 1, p = prob.detach().numpy()).squeeze()\n",
    "    state, reward, terminated, truncated, info = env.step(a)\n",
    "\n",
    "    env.render()\n",
    "    time.sleep(0.01)\n",
    "\n",
    "    if terminated:\n",
    "        state, info = env.reset()\n",
    "env.close()"
   ]
  }
 ],
 "metadata": {
  "kernelspec": {
   "display_name": "base",
   "language": "python",
   "name": "python3"
  },
  "language_info": {
   "codemirror_mode": {
    "name": "ipython",
    "version": 3
   },
   "file_extension": ".py",
   "mimetype": "text/x-python",
   "name": "python",
   "nbconvert_exporter": "python",
   "pygments_lexer": "ipython3",
   "version": "3.11.9"
  }
 },
 "nbformat": 4,
 "nbformat_minor": 2
}
